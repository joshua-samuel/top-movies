{
 "cells": [
  {
   "cell_type": "markdown",
   "metadata": {},
   "source": [
    "### Import modules"
   ]
  },
  {
   "cell_type": "code",
   "execution_count": 1,
   "metadata": {},
   "outputs": [],
   "source": [
    "from bs4 import BeautifulSoup\n",
    "from requests import get\n",
    "import re\n",
    "import pandas as pd\n",
    "import numpy as np\n",
    "import json\n",
    "import datetime"
   ]
  },
  {
   "cell_type": "markdown",
   "metadata": {},
   "source": [
    "### Web scrape IMDB for list of movies being screened locally"
   ]
  },
  {
   "cell_type": "code",
   "execution_count": 2,
   "metadata": {},
   "outputs": [],
   "source": [
    "moviesScreeningUrl = 'https://www.imdb.com/showtimes/location?'\n",
    "moviesScreeningResponse = get(moviesScreeningUrl)\n",
    "moviesScreening = BeautifulSoup(moviesScreeningResponse.text, 'html.parser')\n",
    "\n",
    "# Selecting all movies on webpage\n",
    "moviesScreening = moviesScreening.find_all('div',\n",
    "                                           attrs={'class':'lister-item mode-grid'})"
   ]
  },
  {
   "cell_type": "markdown",
   "metadata": {},
   "source": [
    "### Create list with data (movie title, user rating, Metascore, genres, release date) scraped from IMDB"
   ]
  },
  {
   "cell_type": "code",
   "execution_count": 3,
   "metadata": {},
   "outputs": [],
   "source": [
    "moviesScreeningList = []\n",
    "# Using regex to extract the movie release date from the webpage\n",
    "datePattern = re.compile('[0-9]\\d{1}.[A-z]\\w{2}.[0-9)]\\d{3}')\n",
    "for movie in moviesScreening:\n",
    "    title = movie.find_all('a')[1].string\n",
    "    userRating = movie.find_all('span',\n",
    "                                attrs={'name':'user_rating'})[0]\n",
    "    userRating = str(userRating).strip('<span data-value=\"').strip('\" name=\"user_rating\"></span>')\n",
    "    try:\n",
    "        imdbGenres = movie.find_all('span',\n",
    "                                attrs={'class':'genre'})[0].text.strip('\\n')\n",
    "    except:\n",
    "        imdbGenres = None\n",
    "#     Using these try blocks to prevent an error from breaking the program.\n",
    "    releaseDate = movie.find_all('div',\n",
    "                                 attrs={'id':'release_date'})[0].text\n",
    "    try:\n",
    "        releaseDate = datePattern.search(releaseDate).group(0)\n",
    "    except:\n",
    "        releaseDate = np.nan\n",
    "    try:\n",
    "        metaScore = movie.find_all('div',attrs={'class':'inline-block ratings-metascore'})[0]\\\n",
    "                                        .text.strip('        \\n        Metascore\\n            ')\n",
    "    except:\n",
    "        metaScore = np.nan\n",
    "    moviesScreeningList.append([title,userRating,metaScore,imdbGenres,releaseDate])"
   ]
  },
  {
   "cell_type": "markdown",
   "metadata": {},
   "source": [
    "### Web scrape Flixter for Rotten Tomatoes ratings"
   ]
  },
  {
   "cell_type": "code",
   "execution_count": 4,
   "metadata": {},
   "outputs": [],
   "source": [
    "rtRatingsUrl = 'https://www.flixster.com/top-box-office'\n",
    "rtRatingsResponse = get(rtRatingsUrl)\n",
    "rtRatings = BeautifulSoup(rtRatingsResponse.text, \n",
    "                          'html.parser')"
   ]
  },
  {
   "cell_type": "code",
   "execution_count": 5,
   "metadata": {},
   "outputs": [],
   "source": [
    "#Using regex to find section of code containing the movie data\n",
    "rgPattern = re.compile(\"(\\{.*\\})\")\n",
    "rtScript = rtRatings.find_all(\"script\")\n",
    "movieData = rgPattern.search(str(rtScript)).group(0)\n",
    "\n",
    "# This section of the script is in JSON format,\n",
    "# so I'm converting the text to JSON to make it easier to extract the data\n",
    "movieData = json.loads(movieData)\n",
    "movieData = movieData['props']['initialReduxState']['boxOffice']['top-box-office']['data']['movies']"
   ]
  },
  {
   "cell_type": "markdown",
   "metadata": {},
   "source": [
    "### Create list with data (movie title, critic score, audience score) scraped from Flixter"
   ]
  },
  {
   "cell_type": "code",
   "execution_count": 6,
   "metadata": {},
   "outputs": [],
   "source": [
    "rtMovieList=[]\n",
    "for movie in movieData:\n",
    "    title = movie['title']\n",
    "    try:\n",
    "        criticScore = movie['criticsRating']['score']\n",
    "#     See comment above about use of try blocks\n",
    "    except:\n",
    "        criticScore = np.nan\n",
    "    try:\n",
    "        audienceScore = movie['userRating']['score']\n",
    "    except:\n",
    "        audienceScore = np.nan\n",
    "    rtMovieList.append([title,criticScore,audienceScore])"
   ]
  },
  {
   "cell_type": "markdown",
   "metadata": {},
   "source": [
    "### Create dataframes for analysis"
   ]
  },
  {
   "cell_type": "code",
   "execution_count": 7,
   "metadata": {},
   "outputs": [],
   "source": [
    "# Creating a data frame with the IMDB data\n",
    "screeningsDF = pd.DataFrame(data = moviesScreeningList,\n",
    "                            columns=['Title','IMDB user rating','Metascore','Genres','Release date'])\\\n",
    "                            .set_index('Title')\n",
    "\n",
    "# Creating a data frame with the Flixter data\n",
    "ratingsDF = pd.DataFrame(data = rtMovieList,\n",
    "                         columns=['Title','RT Critics score','RT Audience score'])\\\n",
    "                        .set_index('Title')\n",
    "\n",
    "# Merging the above dataframes\n",
    "moviesDF = screeningsDF.merge(ratingsDF, \n",
    "                              on='Title',\n",
    "                              how='left')"
   ]
  },
  {
   "cell_type": "markdown",
   "metadata": {},
   "source": [
    "### Update columns to the correct data type to allow for calculations"
   ]
  },
  {
   "cell_type": "code",
   "execution_count": 8,
   "metadata": {},
   "outputs": [],
   "source": [
    "moviesDF['RT Critics score'] = moviesDF['RT Critics score'].astype(float)\n",
    "moviesDF['RT Audience score'] = moviesDF['RT Audience score'].astype(float)\n",
    "moviesDF['IMDB user rating'] = moviesDF['IMDB user rating'].astype(float)\n",
    "moviesDF['Metascore'] = moviesDF['Metascore'].astype(float)\n",
    "moviesDF['Release date'] = pd.to_datetime(moviesDF['Release date']).dt.date"
   ]
  },
  {
   "cell_type": "markdown",
   "metadata": {},
   "source": [
    "### Filter the dataframe to select the top movies"
   ]
  },
  {
   "cell_type": "markdown",
   "metadata": {},
   "source": [
    "<font color=orange size = 3> Update the filter settings in the cell below based on your personal preferences. You can set the threshold scores that are used to classify a movie as critically acclaimed or an audience favorite.</font>"
   ]
  },
  {
   "cell_type": "code",
   "execution_count": 9,
   "metadata": {},
   "outputs": [],
   "source": [
    "# Threshold scores for critically acclaimed criteria\n",
    "RTCriticScore = 85 \n",
    "Metascore = 80\n",
    "\n",
    "# Threshold scores for audience favorite criteria\n",
    "RTAudienceScore = 85\n",
    "IMDBRating = 8"
   ]
  },
  {
   "cell_type": "code",
   "execution_count": 10,
   "metadata": {},
   "outputs": [],
   "source": [
    "moviesDF['Critically acclaimed'] = (((moviesDF['RT Critics score'] >= RTCriticScore) \n",
    "                                     & (moviesDF.Metascore >= Metascore)) \n",
    "                                    | ((moviesDF['RT Critics score'].isna()) \n",
    "                                       & (moviesDF.Metascore >= Metascore)))\n",
    "moviesDF['Critically acclaimed'] = np.where(moviesDF['Critically acclaimed'] == True,1,0)\n",
    "\n",
    "\n",
    "moviesDF['Audience favorite'] = (((moviesDF['RT Audience score'] >= RTAudienceScore) \n",
    "                                  & (moviesDF['IMDB user rating'] >= IMDBRating)) \n",
    "                                    | ((moviesDF['RT Audience score'].isna()) \n",
    "                                       & (moviesDF['IMDB user rating'] >= IMDBRating)))\n",
    "moviesDF['Audience favorite'] = np.where(moviesDF['Audience favorite'] == True,1,0)\n",
    "\n",
    "# Only movies that are critically acclaimed or audience favorites are included in the list\n",
    "topMovies = moviesDF[(moviesDF['Critically acclaimed'] == True) | (moviesDF['Audience favorite'] == True)].copy()"
   ]
  },
  {
   "cell_type": "markdown",
   "metadata": {},
   "source": [
    "### Create boolean columns for movie genres and scoring"
   ]
  },
  {
   "cell_type": "markdown",
   "metadata": {},
   "source": [
    "##### List of available genres displayed below"
   ]
  },
  {
   "cell_type": "code",
   "execution_count": 11,
   "metadata": {},
   "outputs": [
    {
     "data": {
      "text/plain": [
       "{'Action',\n",
       " 'Adventure',\n",
       " 'Animation',\n",
       " 'Biography',\n",
       " 'Comedy',\n",
       " 'Crime',\n",
       " 'Documentary',\n",
       " 'Drama',\n",
       " 'Family',\n",
       " 'Fantasy',\n",
       " 'History',\n",
       " 'Horror',\n",
       " 'Music',\n",
       " 'Mystery',\n",
       " 'Romance',\n",
       " 'Sport',\n",
       " 'Thriller',\n",
       " 'War'}"
      ]
     },
     "execution_count": 11,
     "metadata": {},
     "output_type": "execute_result"
    }
   ],
   "source": [
    "genres = []\n",
    "for movie in moviesDF['Genres']:\n",
    "    genres = [genre.strip(' ') for genre in genres + movie.strip().split(',')]\n",
    "set(genres)"
   ]
  },
  {
   "cell_type": "markdown",
   "metadata": {},
   "source": [
    "<font color=orange size=3>Include genres that you like (from above list) to the list below, in order of preference</font>"
   ]
  },
  {
   "cell_type": "code",
   "execution_count": 12,
   "metadata": {},
   "outputs": [],
   "source": [
    "selectedGenres = ['Animation','Comedy','Music']"
   ]
  },
  {
   "cell_type": "code",
   "execution_count": 13,
   "metadata": {},
   "outputs": [],
   "source": [
    "for genre in selectedGenres:\n",
    "    topMovies[genre] = (topMovies['Genres'].str.contains(genre))\n",
    "    topMovies[genre] = np.where(topMovies[genre] == True,1,0)\n",
    "\n",
    "# Assigning a total score based on above boolean columns\n",
    "topMovies['Total score'] = (topMovies['Critically acclaimed'] \n",
    "                            + topMovies['Audience favorite'] \n",
    "                            +topMovies[selectedGenres].sum(axis=1))"
   ]
  },
  {
   "cell_type": "markdown",
   "metadata": {},
   "source": [
    "### List of top movies"
   ]
  },
  {
   "cell_type": "code",
   "execution_count": 14,
   "metadata": {
    "scrolled": true
   },
   "outputs": [
    {
     "data": {
      "text/html": [
       "<style  type=\"text/css\" >\n",
       "    #T_ae2d3098_e247_11e9_93c1_9cb6d0eac092row0_col4 {\n",
       "            background-color:  lightblue;\n",
       "        }    #T_ae2d3098_e247_11e9_93c1_9cb6d0eac092row0_col5 {\n",
       "            background-color:  lightblue;\n",
       "        }    #T_ae2d3098_e247_11e9_93c1_9cb6d0eac092row0_col6 {\n",
       "            background-color:  lightblue;\n",
       "        }    #T_ae2d3098_e247_11e9_93c1_9cb6d0eac092row0_col7 {\n",
       "            background-color:  lightblue;\n",
       "        }    #T_ae2d3098_e247_11e9_93c1_9cb6d0eac092row0_col9 {\n",
       "            background-color:  lightblue;\n",
       "        }    #T_ae2d3098_e247_11e9_93c1_9cb6d0eac092row1_col4 {\n",
       "            background-color:  lightblue;\n",
       "        }    #T_ae2d3098_e247_11e9_93c1_9cb6d0eac092row1_col5 {\n",
       "            background-color:  lightblue;\n",
       "        }    #T_ae2d3098_e247_11e9_93c1_9cb6d0eac092row1_col7 {\n",
       "            background-color:  lightblue;\n",
       "        }    #T_ae2d3098_e247_11e9_93c1_9cb6d0eac092row2_col4 {\n",
       "            background-color:  lightblue;\n",
       "        }    #T_ae2d3098_e247_11e9_93c1_9cb6d0eac092row2_col5 {\n",
       "            background-color:  lightblue;\n",
       "        }    #T_ae2d3098_e247_11e9_93c1_9cb6d0eac092row2_col7 {\n",
       "            background-color:  lightblue;\n",
       "        }    #T_ae2d3098_e247_11e9_93c1_9cb6d0eac092row3_col4 {\n",
       "            background-color:  lightblue;\n",
       "        }    #T_ae2d3098_e247_11e9_93c1_9cb6d0eac092row3_col5 {\n",
       "            background-color:  lightblue;\n",
       "        }    #T_ae2d3098_e247_11e9_93c1_9cb6d0eac092row3_col7 {\n",
       "            background-color:  lightblue;\n",
       "        }    #T_ae2d3098_e247_11e9_93c1_9cb6d0eac092row4_col4 {\n",
       "            background-color:  lightblue;\n",
       "        }    #T_ae2d3098_e247_11e9_93c1_9cb6d0eac092row4_col5 {\n",
       "            background-color:  lightblue;\n",
       "        }    #T_ae2d3098_e247_11e9_93c1_9cb6d0eac092row5_col4 {\n",
       "            background-color:  lightblue;\n",
       "        }    #T_ae2d3098_e247_11e9_93c1_9cb6d0eac092row5_col5 {\n",
       "            background-color:  lightblue;\n",
       "        }    #T_ae2d3098_e247_11e9_93c1_9cb6d0eac092row6_col4 {\n",
       "            background-color:  lightblue;\n",
       "        }    #T_ae2d3098_e247_11e9_93c1_9cb6d0eac092row6_col8 {\n",
       "            background-color:  lightblue;\n",
       "        }</style>  \n",
       "<table id=\"T_ae2d3098_e247_11e9_93c1_9cb6d0eac092\" > \n",
       "<thead>    <tr> \n",
       "        <th class=\"blank level0\" ></th> \n",
       "        <th class=\"col_heading level0 col0\" >RT Audience score</th> \n",
       "        <th class=\"col_heading level0 col1\" >RT Critics score</th> \n",
       "        <th class=\"col_heading level0 col2\" >IMDB user rating</th> \n",
       "        <th class=\"col_heading level0 col3\" >Metascore</th> \n",
       "        <th class=\"col_heading level0 col4\" >Critically acclaimed</th> \n",
       "        <th class=\"col_heading level0 col5\" >Audience favorite</th> \n",
       "        <th class=\"col_heading level0 col6\" >Animation</th> \n",
       "        <th class=\"col_heading level0 col7\" >Comedy</th> \n",
       "        <th class=\"col_heading level0 col8\" >Music</th> \n",
       "        <th class=\"col_heading level0 col9\" >Total score</th> \n",
       "    </tr>    <tr> \n",
       "        <th class=\"index_name level0\" >Title</th> \n",
       "        <th class=\"blank\" ></th> \n",
       "        <th class=\"blank\" ></th> \n",
       "        <th class=\"blank\" ></th> \n",
       "        <th class=\"blank\" ></th> \n",
       "        <th class=\"blank\" ></th> \n",
       "        <th class=\"blank\" ></th> \n",
       "        <th class=\"blank\" ></th> \n",
       "        <th class=\"blank\" ></th> \n",
       "        <th class=\"blank\" ></th> \n",
       "        <th class=\"blank\" ></th> \n",
       "    </tr></thead> \n",
       "<tbody>    <tr> \n",
       "        <th id=\"T_ae2d3098_e247_11e9_93c1_9cb6d0eac092level0_row0\" class=\"row_heading level0 row0\" >Toy Story 4</th> \n",
       "        <td id=\"T_ae2d3098_e247_11e9_93c1_9cb6d0eac092row0_col0\" class=\"data row0 col0\" >94</td> \n",
       "        <td id=\"T_ae2d3098_e247_11e9_93c1_9cb6d0eac092row0_col1\" class=\"data row0 col1\" >97</td> \n",
       "        <td id=\"T_ae2d3098_e247_11e9_93c1_9cb6d0eac092row0_col2\" class=\"data row0 col2\" >8.1</td> \n",
       "        <td id=\"T_ae2d3098_e247_11e9_93c1_9cb6d0eac092row0_col3\" class=\"data row0 col3\" >84</td> \n",
       "        <td id=\"T_ae2d3098_e247_11e9_93c1_9cb6d0eac092row0_col4\" class=\"data row0 col4\" >1</td> \n",
       "        <td id=\"T_ae2d3098_e247_11e9_93c1_9cb6d0eac092row0_col5\" class=\"data row0 col5\" >1</td> \n",
       "        <td id=\"T_ae2d3098_e247_11e9_93c1_9cb6d0eac092row0_col6\" class=\"data row0 col6\" >1</td> \n",
       "        <td id=\"T_ae2d3098_e247_11e9_93c1_9cb6d0eac092row0_col7\" class=\"data row0 col7\" >1</td> \n",
       "        <td id=\"T_ae2d3098_e247_11e9_93c1_9cb6d0eac092row0_col8\" class=\"data row0 col8\" >0</td> \n",
       "        <td id=\"T_ae2d3098_e247_11e9_93c1_9cb6d0eac092row0_col9\" class=\"data row0 col9\" >4</td> \n",
       "    </tr>    <tr> \n",
       "        <th id=\"T_ae2d3098_e247_11e9_93c1_9cb6d0eac092level0_row1\" class=\"row_heading level0 row1\" >Once Upon a Time in Hollywood</th> \n",
       "        <td id=\"T_ae2d3098_e247_11e9_93c1_9cb6d0eac092row1_col0\" class=\"data row1 col0\" >nan</td> \n",
       "        <td id=\"T_ae2d3098_e247_11e9_93c1_9cb6d0eac092row1_col1\" class=\"data row1 col1\" >nan</td> \n",
       "        <td id=\"T_ae2d3098_e247_11e9_93c1_9cb6d0eac092row1_col2\" class=\"data row1 col2\" >8</td> \n",
       "        <td id=\"T_ae2d3098_e247_11e9_93c1_9cb6d0eac092row1_col3\" class=\"data row1 col3\" >83</td> \n",
       "        <td id=\"T_ae2d3098_e247_11e9_93c1_9cb6d0eac092row1_col4\" class=\"data row1 col4\" >1</td> \n",
       "        <td id=\"T_ae2d3098_e247_11e9_93c1_9cb6d0eac092row1_col5\" class=\"data row1 col5\" >1</td> \n",
       "        <td id=\"T_ae2d3098_e247_11e9_93c1_9cb6d0eac092row1_col6\" class=\"data row1 col6\" >0</td> \n",
       "        <td id=\"T_ae2d3098_e247_11e9_93c1_9cb6d0eac092row1_col7\" class=\"data row1 col7\" >1</td> \n",
       "        <td id=\"T_ae2d3098_e247_11e9_93c1_9cb6d0eac092row1_col8\" class=\"data row1 col8\" >0</td> \n",
       "        <td id=\"T_ae2d3098_e247_11e9_93c1_9cb6d0eac092row1_col9\" class=\"data row1 col9\" >3</td> \n",
       "    </tr>    <tr> \n",
       "        <th id=\"T_ae2d3098_e247_11e9_93c1_9cb6d0eac092level0_row2\" class=\"row_heading level0 row2\" >Parasite</th> \n",
       "        <td id=\"T_ae2d3098_e247_11e9_93c1_9cb6d0eac092row2_col0\" class=\"data row2 col0\" >nan</td> \n",
       "        <td id=\"T_ae2d3098_e247_11e9_93c1_9cb6d0eac092row2_col1\" class=\"data row2 col1\" >nan</td> \n",
       "        <td id=\"T_ae2d3098_e247_11e9_93c1_9cb6d0eac092row2_col2\" class=\"data row2 col2\" >8.5</td> \n",
       "        <td id=\"T_ae2d3098_e247_11e9_93c1_9cb6d0eac092row2_col3\" class=\"data row2 col3\" >92</td> \n",
       "        <td id=\"T_ae2d3098_e247_11e9_93c1_9cb6d0eac092row2_col4\" class=\"data row2 col4\" >1</td> \n",
       "        <td id=\"T_ae2d3098_e247_11e9_93c1_9cb6d0eac092row2_col5\" class=\"data row2 col5\" >1</td> \n",
       "        <td id=\"T_ae2d3098_e247_11e9_93c1_9cb6d0eac092row2_col6\" class=\"data row2 col6\" >0</td> \n",
       "        <td id=\"T_ae2d3098_e247_11e9_93c1_9cb6d0eac092row2_col7\" class=\"data row2 col7\" >1</td> \n",
       "        <td id=\"T_ae2d3098_e247_11e9_93c1_9cb6d0eac092row2_col8\" class=\"data row2 col8\" >0</td> \n",
       "        <td id=\"T_ae2d3098_e247_11e9_93c1_9cb6d0eac092row2_col9\" class=\"data row2 col9\" >3</td> \n",
       "    </tr>    <tr> \n",
       "        <th id=\"T_ae2d3098_e247_11e9_93c1_9cb6d0eac092level0_row3\" class=\"row_heading level0 row3\" >The Farewell</th> \n",
       "        <td id=\"T_ae2d3098_e247_11e9_93c1_9cb6d0eac092row3_col0\" class=\"data row3 col0\" >87</td> \n",
       "        <td id=\"T_ae2d3098_e247_11e9_93c1_9cb6d0eac092row3_col1\" class=\"data row3 col1\" >99</td> \n",
       "        <td id=\"T_ae2d3098_e247_11e9_93c1_9cb6d0eac092row3_col2\" class=\"data row3 col2\" >8.1</td> \n",
       "        <td id=\"T_ae2d3098_e247_11e9_93c1_9cb6d0eac092row3_col3\" class=\"data row3 col3\" >89</td> \n",
       "        <td id=\"T_ae2d3098_e247_11e9_93c1_9cb6d0eac092row3_col4\" class=\"data row3 col4\" >1</td> \n",
       "        <td id=\"T_ae2d3098_e247_11e9_93c1_9cb6d0eac092row3_col5\" class=\"data row3 col5\" >1</td> \n",
       "        <td id=\"T_ae2d3098_e247_11e9_93c1_9cb6d0eac092row3_col6\" class=\"data row3 col6\" >0</td> \n",
       "        <td id=\"T_ae2d3098_e247_11e9_93c1_9cb6d0eac092row3_col7\" class=\"data row3 col7\" >1</td> \n",
       "        <td id=\"T_ae2d3098_e247_11e9_93c1_9cb6d0eac092row3_col8\" class=\"data row3 col8\" >0</td> \n",
       "        <td id=\"T_ae2d3098_e247_11e9_93c1_9cb6d0eac092row3_col9\" class=\"data row3 col9\" >3</td> \n",
       "    </tr>    <tr> \n",
       "        <th id=\"T_ae2d3098_e247_11e9_93c1_9cb6d0eac092level0_row4\" class=\"row_heading level0 row4\" >Apocalypse Now</th> \n",
       "        <td id=\"T_ae2d3098_e247_11e9_93c1_9cb6d0eac092row4_col0\" class=\"data row4 col0\" >nan</td> \n",
       "        <td id=\"T_ae2d3098_e247_11e9_93c1_9cb6d0eac092row4_col1\" class=\"data row4 col1\" >nan</td> \n",
       "        <td id=\"T_ae2d3098_e247_11e9_93c1_9cb6d0eac092row4_col2\" class=\"data row4 col2\" >8.4</td> \n",
       "        <td id=\"T_ae2d3098_e247_11e9_93c1_9cb6d0eac092row4_col3\" class=\"data row4 col3\" >94</td> \n",
       "        <td id=\"T_ae2d3098_e247_11e9_93c1_9cb6d0eac092row4_col4\" class=\"data row4 col4\" >1</td> \n",
       "        <td id=\"T_ae2d3098_e247_11e9_93c1_9cb6d0eac092row4_col5\" class=\"data row4 col5\" >1</td> \n",
       "        <td id=\"T_ae2d3098_e247_11e9_93c1_9cb6d0eac092row4_col6\" class=\"data row4 col6\" >0</td> \n",
       "        <td id=\"T_ae2d3098_e247_11e9_93c1_9cb6d0eac092row4_col7\" class=\"data row4 col7\" >0</td> \n",
       "        <td id=\"T_ae2d3098_e247_11e9_93c1_9cb6d0eac092row4_col8\" class=\"data row4 col8\" >0</td> \n",
       "        <td id=\"T_ae2d3098_e247_11e9_93c1_9cb6d0eac092row4_col9\" class=\"data row4 col9\" >2</td> \n",
       "    </tr>    <tr> \n",
       "        <th id=\"T_ae2d3098_e247_11e9_93c1_9cb6d0eac092level0_row5\" class=\"row_heading level0 row5\" >Apollo 11</th> \n",
       "        <td id=\"T_ae2d3098_e247_11e9_93c1_9cb6d0eac092row5_col0\" class=\"data row5 col0\" >nan</td> \n",
       "        <td id=\"T_ae2d3098_e247_11e9_93c1_9cb6d0eac092row5_col1\" class=\"data row5 col1\" >nan</td> \n",
       "        <td id=\"T_ae2d3098_e247_11e9_93c1_9cb6d0eac092row5_col2\" class=\"data row5 col2\" >8.3</td> \n",
       "        <td id=\"T_ae2d3098_e247_11e9_93c1_9cb6d0eac092row5_col3\" class=\"data row5 col3\" >88</td> \n",
       "        <td id=\"T_ae2d3098_e247_11e9_93c1_9cb6d0eac092row5_col4\" class=\"data row5 col4\" >1</td> \n",
       "        <td id=\"T_ae2d3098_e247_11e9_93c1_9cb6d0eac092row5_col5\" class=\"data row5 col5\" >1</td> \n",
       "        <td id=\"T_ae2d3098_e247_11e9_93c1_9cb6d0eac092row5_col6\" class=\"data row5 col6\" >0</td> \n",
       "        <td id=\"T_ae2d3098_e247_11e9_93c1_9cb6d0eac092row5_col7\" class=\"data row5 col7\" >0</td> \n",
       "        <td id=\"T_ae2d3098_e247_11e9_93c1_9cb6d0eac092row5_col8\" class=\"data row5 col8\" >0</td> \n",
       "        <td id=\"T_ae2d3098_e247_11e9_93c1_9cb6d0eac092row5_col9\" class=\"data row5 col9\" >2</td> \n",
       "    </tr>    <tr> \n",
       "        <th id=\"T_ae2d3098_e247_11e9_93c1_9cb6d0eac092level0_row6\" class=\"row_heading level0 row6\" >Amazing Grace</th> \n",
       "        <td id=\"T_ae2d3098_e247_11e9_93c1_9cb6d0eac092row6_col0\" class=\"data row6 col0\" >nan</td> \n",
       "        <td id=\"T_ae2d3098_e247_11e9_93c1_9cb6d0eac092row6_col1\" class=\"data row6 col1\" >nan</td> \n",
       "        <td id=\"T_ae2d3098_e247_11e9_93c1_9cb6d0eac092row6_col2\" class=\"data row6 col2\" >7.6</td> \n",
       "        <td id=\"T_ae2d3098_e247_11e9_93c1_9cb6d0eac092row6_col3\" class=\"data row6 col3\" >94</td> \n",
       "        <td id=\"T_ae2d3098_e247_11e9_93c1_9cb6d0eac092row6_col4\" class=\"data row6 col4\" >1</td> \n",
       "        <td id=\"T_ae2d3098_e247_11e9_93c1_9cb6d0eac092row6_col5\" class=\"data row6 col5\" >0</td> \n",
       "        <td id=\"T_ae2d3098_e247_11e9_93c1_9cb6d0eac092row6_col6\" class=\"data row6 col6\" >0</td> \n",
       "        <td id=\"T_ae2d3098_e247_11e9_93c1_9cb6d0eac092row6_col7\" class=\"data row6 col7\" >0</td> \n",
       "        <td id=\"T_ae2d3098_e247_11e9_93c1_9cb6d0eac092row6_col8\" class=\"data row6 col8\" >1</td> \n",
       "        <td id=\"T_ae2d3098_e247_11e9_93c1_9cb6d0eac092row6_col9\" class=\"data row6 col9\" >2</td> \n",
       "    </tr></tbody> \n",
       "</table> "
      ],
      "text/plain": [
       "<pandas.io.formats.style.Styler at 0x1d9ca6916a0>"
      ]
     },
     "execution_count": 14,
     "metadata": {},
     "output_type": "execute_result"
    }
   ],
   "source": [
    "displayColumns = ['RT Audience score','RT Critics score','IMDB user rating','Metascore','Critically acclaimed',\n",
    "                  'Audience favorite','Total score']\n",
    "displayColumns[6:6] = selectedGenres\n",
    "highlightedColumns = ['Total score','Audience favorite','Critically acclaimed'] + selectedGenres\n",
    "\n",
    "# Sorting the data frame and highlighting the boolean columns that are True (value = 1)\n",
    "topMovies[displayColumns]\\\n",
    "            .sort_values(highlightedColumns,\n",
    "                         ascending=False)\\\n",
    "                        .style.highlight_max(subset=highlightedColumns, \n",
    "                                             color='lightblue')"
   ]
  },
  {
   "cell_type": "markdown",
   "metadata": {},
   "source": [
    "### Movies loved by critics and audiences"
   ]
  },
  {
   "cell_type": "code",
   "execution_count": 15,
   "metadata": {},
   "outputs": [
    {
     "data": {
      "text/html": [
       "<div>\n",
       "<style scoped>\n",
       "    .dataframe tbody tr th:only-of-type {\n",
       "        vertical-align: middle;\n",
       "    }\n",
       "\n",
       "    .dataframe tbody tr th {\n",
       "        vertical-align: top;\n",
       "    }\n",
       "\n",
       "    .dataframe thead th {\n",
       "        text-align: right;\n",
       "    }\n",
       "</style>\n",
       "<table border=\"1\" class=\"dataframe\">\n",
       "  <thead>\n",
       "    <tr style=\"text-align: right;\">\n",
       "      <th></th>\n",
       "      <th>Genres</th>\n",
       "      <th>Release date</th>\n",
       "    </tr>\n",
       "    <tr>\n",
       "      <th>Title</th>\n",
       "      <th></th>\n",
       "      <th></th>\n",
       "    </tr>\n",
       "  </thead>\n",
       "  <tbody>\n",
       "    <tr>\n",
       "      <th>The Farewell</th>\n",
       "      <td>Comedy, Drama</td>\n",
       "      <td>2019-09-05</td>\n",
       "    </tr>\n",
       "    <tr>\n",
       "      <th>Once Upon a Time in Hollywood</th>\n",
       "      <td>Comedy, Drama</td>\n",
       "      <td>2019-08-15</td>\n",
       "    </tr>\n",
       "    <tr>\n",
       "      <th>Apollo 11</th>\n",
       "      <td>Documentary, History</td>\n",
       "      <td>2019-06-26</td>\n",
       "    </tr>\n",
       "    <tr>\n",
       "      <th>Toy Story 4</th>\n",
       "      <td>Animation, Adventure, Comedy</td>\n",
       "      <td>2019-06-20</td>\n",
       "    </tr>\n",
       "    <tr>\n",
       "      <th>Parasite</th>\n",
       "      <td>Comedy, Drama, Thriller</td>\n",
       "      <td>2019-05-30</td>\n",
       "    </tr>\n",
       "    <tr>\n",
       "      <th>Apocalypse Now</th>\n",
       "      <td>Drama, Mystery, War</td>\n",
       "      <td>1979-11-15</td>\n",
       "    </tr>\n",
       "  </tbody>\n",
       "</table>\n",
       "</div>"
      ],
      "text/plain": [
       "                                                                 Genres  \\\n",
       "Title                                                                     \n",
       "The Farewell                                  Comedy, Drama               \n",
       "Once Upon a Time in Hollywood                 Comedy, Drama               \n",
       "Apollo 11                              Documentary, History               \n",
       "Toy Story 4                    Animation, Adventure, Comedy               \n",
       "Parasite                            Comedy, Drama, Thriller               \n",
       "Apocalypse Now                          Drama, Mystery, War               \n",
       "\n",
       "                              Release date  \n",
       "Title                                       \n",
       "The Farewell                    2019-09-05  \n",
       "Once Upon a Time in Hollywood   2019-08-15  \n",
       "Apollo 11                       2019-06-26  \n",
       "Toy Story 4                     2019-06-20  \n",
       "Parasite                        2019-05-30  \n",
       "Apocalypse Now                  1979-11-15  "
      ]
     },
     "execution_count": 15,
     "metadata": {},
     "output_type": "execute_result"
    }
   ],
   "source": [
    "topMovies[['Genres','Release date']]\\\n",
    "        [(topMovies['Critically acclaimed'] == 1) \n",
    "         & (topMovies['Audience favorite'] == 1)]\\\n",
    "        .sort_values(['Release date'],\n",
    "                     ascending=False)"
   ]
  },
  {
   "cell_type": "markdown",
   "metadata": {},
   "source": [
    "### Movies loved by critics but not audiences"
   ]
  },
  {
   "cell_type": "code",
   "execution_count": 16,
   "metadata": {},
   "outputs": [
    {
     "data": {
      "text/html": [
       "<div>\n",
       "<style scoped>\n",
       "    .dataframe tbody tr th:only-of-type {\n",
       "        vertical-align: middle;\n",
       "    }\n",
       "\n",
       "    .dataframe tbody tr th {\n",
       "        vertical-align: top;\n",
       "    }\n",
       "\n",
       "    .dataframe thead th {\n",
       "        text-align: right;\n",
       "    }\n",
       "</style>\n",
       "<table border=\"1\" class=\"dataframe\">\n",
       "  <thead>\n",
       "    <tr style=\"text-align: right;\">\n",
       "      <th></th>\n",
       "      <th>Genres</th>\n",
       "      <th>Release date</th>\n",
       "    </tr>\n",
       "    <tr>\n",
       "      <th>Title</th>\n",
       "      <th></th>\n",
       "      <th></th>\n",
       "    </tr>\n",
       "  </thead>\n",
       "  <tbody>\n",
       "    <tr>\n",
       "      <th>Amazing Grace</th>\n",
       "      <td>Documentary, Music</td>\n",
       "      <td>2019-08-29</td>\n",
       "    </tr>\n",
       "  </tbody>\n",
       "</table>\n",
       "</div>"
      ],
      "text/plain": [
       "                                       Genres Release date\n",
       "Title                                                     \n",
       "Amazing Grace  Documentary, Music               2019-08-29"
      ]
     },
     "execution_count": 16,
     "metadata": {},
     "output_type": "execute_result"
    }
   ],
   "source": [
    "topMovies[['Genres','Release date']]\\\n",
    "        [(topMovies['Critically acclaimed'] == 1) \n",
    "         & (topMovies['Audience favorite'] == 0)]\\\n",
    "        .sort_values(['Release date'],\n",
    "                     ascending=False)"
   ]
  },
  {
   "cell_type": "markdown",
   "metadata": {},
   "source": [
    "### Movies loved by audiences but not critics"
   ]
  },
  {
   "cell_type": "code",
   "execution_count": 17,
   "metadata": {},
   "outputs": [
    {
     "data": {
      "text/html": [
       "<div>\n",
       "<style scoped>\n",
       "    .dataframe tbody tr th:only-of-type {\n",
       "        vertical-align: middle;\n",
       "    }\n",
       "\n",
       "    .dataframe tbody tr th {\n",
       "        vertical-align: top;\n",
       "    }\n",
       "\n",
       "    .dataframe thead th {\n",
       "        text-align: right;\n",
       "    }\n",
       "</style>\n",
       "<table border=\"1\" class=\"dataframe\">\n",
       "  <thead>\n",
       "    <tr style=\"text-align: right;\">\n",
       "      <th></th>\n",
       "      <th>Genres</th>\n",
       "      <th>Release date</th>\n",
       "    </tr>\n",
       "    <tr>\n",
       "      <th>Title</th>\n",
       "      <th></th>\n",
       "      <th></th>\n",
       "    </tr>\n",
       "  </thead>\n",
       "  <tbody>\n",
       "  </tbody>\n",
       "</table>\n",
       "</div>"
      ],
      "text/plain": [
       "Empty DataFrame\n",
       "Columns: [Genres, Release date]\n",
       "Index: []"
      ]
     },
     "execution_count": 17,
     "metadata": {},
     "output_type": "execute_result"
    }
   ],
   "source": [
    "topMovies[['Genres','Release date']]\\\n",
    "        [(topMovies['Critically acclaimed'] == 0) \n",
    "         & (topMovies['Audience favorite'] == 1)]\\\n",
    "        .sort_values(['Release date'],\n",
    "                     ascending=False)"
   ]
  }
 ],
 "metadata": {
  "kernelspec": {
   "display_name": "Python 3",
   "language": "python",
   "name": "python3"
  },
  "language_info": {
   "codemirror_mode": {
    "name": "ipython",
    "version": 3
   },
   "file_extension": ".py",
   "mimetype": "text/x-python",
   "name": "python",
   "nbconvert_exporter": "python",
   "pygments_lexer": "ipython3",
   "version": "3.7.0"
  }
 },
 "nbformat": 4,
 "nbformat_minor": 2
}
