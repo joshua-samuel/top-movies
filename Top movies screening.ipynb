{
 "cells": [
  {
   "cell_type": "markdown",
   "metadata": {},
   "source": [
    "### Import modules"
   ]
  },
  {
   "cell_type": "code",
   "execution_count": 1,
   "metadata": {},
   "outputs": [],
   "source": [
    "from bs4 import BeautifulSoup\n",
    "from requests import get\n",
    "import re\n",
    "import pandas as pd\n",
    "import numpy as np\n",
    "import json\n",
    "import datetime"
   ]
  },
  {
   "cell_type": "markdown",
   "metadata": {},
   "source": [
    "### Web scrape IMDB for list of movies being screened locally"
   ]
  },
  {
   "cell_type": "code",
   "execution_count": 2,
   "metadata": {},
   "outputs": [],
   "source": [
    "moviesScreeningUrl = 'https://www.imdb.com/showtimes/location?'\n",
    "moviesScreeningResponse = get(moviesScreeningUrl)\n",
    "moviesScreening = BeautifulSoup(moviesScreeningResponse.text, 'html.parser')\n",
    "\n",
    "# Selecting all movies on webpage\n",
    "moviesScreening = moviesScreening.find_all('div',\n",
    "                                           attrs={'class':'lister-item mode-grid'})"
   ]
  },
  {
   "cell_type": "markdown",
   "metadata": {},
   "source": [
    "### Create list with data (movie title, user rating, Metascore, genres, release date) scraped from IMDB"
   ]
  },
  {
   "cell_type": "code",
   "execution_count": 3,
   "metadata": {},
   "outputs": [],
   "source": [
    "moviesScreeningList = []\n",
    "# Using regex to extract the movie release date from the webpage\n",
    "datePattern = re.compile('[0-9]\\d{1}.[A-z]\\w{2}.[0-9)]\\d{3}')\n",
    "for movie in moviesScreening:\n",
    "    title = movie.find_all('a')[1].string\n",
    "    userRating = movie.find_all('span',\n",
    "                                attrs={'name':'user_rating'})[0]\n",
    "    userRating = str(userRating).strip('<span data-value=\"').strip('\" name=\"user_rating\"></span>')\n",
    "    try:\n",
    "        imdbGenres = movie.find_all('span',\n",
    "                                attrs={'class':'genre'})[0].text.strip('\\n')\n",
    "    except:\n",
    "        imdbGenres = None\n",
    "#     Using these try blocks to prevent an error from breaking the program.\n",
    "    releaseDate = movie.find_all('div',\n",
    "                                 attrs={'id':'release_date'})[0].text\n",
    "    try:\n",
    "        releaseDate = datePattern.search(releaseDate).group(0)\n",
    "    except:\n",
    "        releaseDate = np.nan\n",
    "    try:\n",
    "        metaScore = movie.find_all('div',attrs={'class':'inline-block ratings-metascore'})[0]\\\n",
    "                                        .text.strip('        \\n        Metascore\\n            ')\n",
    "    except:\n",
    "        metaScore = np.nan\n",
    "    moviesScreeningList.append([title,userRating,metaScore,imdbGenres,releaseDate])"
   ]
  },
  {
   "cell_type": "markdown",
   "metadata": {},
   "source": [
    "### Web scrape Flixter for Rotten Tomatoes ratings"
   ]
  },
  {
   "cell_type": "code",
   "execution_count": 4,
   "metadata": {},
   "outputs": [],
   "source": [
    "rtRatingsUrl = 'https://www.flixster.com/top-box-office'\n",
    "rtRatingsResponse = get(rtRatingsUrl)\n",
    "rtRatings = BeautifulSoup(rtRatingsResponse.text, \n",
    "                          'html.parser')"
   ]
  },
  {
   "cell_type": "code",
   "execution_count": 5,
   "metadata": {},
   "outputs": [],
   "source": [
    "#Using regex to find section of code containing the movie data\n",
    "rgPattern = re.compile(r\"__NEXT_DATA__\\s=\\s(\\{.*\\});\")\n",
    "rtScript = rtRatings.find_all(\"script\")\n",
    "movieData = rgPattern.search(str(rtScript)).group(1)\n",
    "\n",
    "# This section of the script is in JSON format,\n",
    "# so I'm converting the text to JSON to make it easier to extract the data\n",
    "movieData = json.loads(movieData)\n",
    "movieData = movieData['props']['initialReduxState']['boxOffice']['api']['topBoxOfficeList']['data']"
   ]
  },
  {
   "cell_type": "markdown",
   "metadata": {},
   "source": [
    "### Create list with data (movie title, critic score, audience score) scraped from Flixter"
   ]
  },
  {
   "cell_type": "code",
   "execution_count": 6,
   "metadata": {},
   "outputs": [],
   "source": [
    "rtMovieList=[]\n",
    "for movie in movieData:\n",
    "    title = movie['title']\n",
    "    try:\n",
    "        criticScore = movie['tomatometer']['tomatometer']\n",
    "#     See comment above about use of try blocks\n",
    "    except:\n",
    "        criticScore = np.nan\n",
    "    try:\n",
    "        audienceScore = movie['userRatingSummary']['dtlLikedScore']\n",
    "    except:\n",
    "        audienceScore = np.nan\n",
    "    rtMovieList.append([title,criticScore,audienceScore])"
   ]
  },
  {
   "cell_type": "markdown",
   "metadata": {},
   "source": [
    "### Create dataframes for analysis"
   ]
  },
  {
   "cell_type": "code",
   "execution_count": 7,
   "metadata": {},
   "outputs": [],
   "source": [
    "# Creating a data frame with the IMDB data\n",
    "screeningsDF = pd.DataFrame(data = moviesScreeningList,\n",
    "                            columns=['Title','IMDB user rating','Metascore','Genres','Release date'])\\\n",
    "                            .set_index('Title')\n",
    "\n",
    "# Creating a data frame with the Flixter data\n",
    "ratingsDF = pd.DataFrame(data = rtMovieList,\n",
    "                         columns=['Title','Critics score','Audience score'])\\\n",
    "                        .set_index('Title')\n",
    "\n",
    "# Merging the above dataframes\n",
    "moviesDF = screeningsDF.merge(ratingsDF, \n",
    "                              on='Title',\n",
    "                              how='left')"
   ]
  },
  {
   "cell_type": "markdown",
   "metadata": {},
   "source": [
    "### Update columns to the correct data type to allow for calculations"
   ]
  },
  {
   "cell_type": "code",
   "execution_count": 8,
   "metadata": {},
   "outputs": [],
   "source": [
    "moviesDF['Critics score'] = moviesDF['Critics score'].astype(float)\n",
    "moviesDF['Audience score'] = moviesDF['Audience score'].astype(float)\n",
    "moviesDF['IMDB user rating'] = moviesDF['IMDB user rating'].astype(float)\n",
    "moviesDF['Metascore'] = moviesDF['Metascore'].astype(float)\n",
    "moviesDF['Release date'] = pd.to_datetime(moviesDF['Release date']).dt.date"
   ]
  },
  {
   "cell_type": "markdown",
   "metadata": {},
   "source": [
    "### Filter the dataframe to select the top movies"
   ]
  },
  {
   "cell_type": "code",
   "execution_count": 27,
   "metadata": {},
   "outputs": [],
   "source": [
    "moviesDF['Critically acclaimed'] = (((moviesDF['Critics score'] >= 85) \n",
    "                                     & (moviesDF.Metascore >= 80)) \n",
    "                                    | ((moviesDF['Critics score'].isna()) \n",
    "                                       & (moviesDF.Metascore >= 80)))\n",
    "moviesDF['Critically acclaimed'] = np.where(moviesDF['Critically acclaimed'] == True,1,0)\n",
    "\n",
    "moviesDF['Audience favorite'] = (((moviesDF['Audience score'] >= 85) \n",
    "                                  & (moviesDF['IMDB user rating'] >= 8)) \n",
    "                                    | ((moviesDF['Audience score'].isna()) \n",
    "                                       & (moviesDF['IMDB user rating'] >= 8)))\n",
    "moviesDF['Audience favorite'] = np.where(moviesDF['Audience favorite'] == True,1,0)\n",
    "\n",
    "topMovies = moviesDF[(moviesDF['Critically acclaimed'] == True) | (moviesDF['Audience favorite'] == True)].copy()"
   ]
  },
  {
   "cell_type": "markdown",
   "metadata": {},
   "source": [
    "### Create boolean columns for movie genres and scoring"
   ]
  },
  {
   "cell_type": "code",
   "execution_count": 28,
   "metadata": {},
   "outputs": [],
   "source": [
    "topMovies['Comedy'] = (topMovies['Genres'].str.contains('Comedy'))\n",
    "topMovies['Comedy'] = np.where(topMovies['Comedy'] == True,1,0)\n",
    "\n",
    "topMovies['Music'] = (topMovies['Genres'].str.contains('Music'))\n",
    "topMovies['Music'] = np.where(topMovies['Music'] == True,1,0)\n",
    "\n",
    "topMovies['Animation'] = (topMovies['Genres'].str.contains('Animation'))\n",
    "topMovies['Animation'] = np.where(topMovies['Animation'] == True,1,0)\n",
    "\n",
    "# Assigning a total score based on above boolean columns\n",
    "topMovies['Total score'] = (topMovies['Critically acclaimed'] \n",
    "                            + topMovies['Audience favorite'] \n",
    "                            + topMovies['Comedy'] \n",
    "                            + topMovies['Music']\n",
    "                            + topMovies['Animation'])"
   ]
  },
  {
   "cell_type": "markdown",
   "metadata": {},
   "source": [
    "### List of top movies"
   ]
  },
  {
   "cell_type": "code",
   "execution_count": 29,
   "metadata": {
    "scrolled": true
   },
   "outputs": [
    {
     "data": {
      "text/html": [
       "<style  type=\"text/css\" >\n",
       "    #T_bfa77500_db35_11e9_b31d_9457a5edc0d1row0_col4 {\n",
       "            background-color:  lightblue;\n",
       "        }    #T_bfa77500_db35_11e9_b31d_9457a5edc0d1row0_col5 {\n",
       "            background-color:  lightblue;\n",
       "        }    #T_bfa77500_db35_11e9_b31d_9457a5edc0d1row0_col6 {\n",
       "            background-color:  lightblue;\n",
       "        }    #T_bfa77500_db35_11e9_b31d_9457a5edc0d1row0_col8 {\n",
       "            background-color:  lightblue;\n",
       "        }    #T_bfa77500_db35_11e9_b31d_9457a5edc0d1row1_col4 {\n",
       "            background-color:  lightblue;\n",
       "        }    #T_bfa77500_db35_11e9_b31d_9457a5edc0d1row1_col5 {\n",
       "            background-color:  lightblue;\n",
       "        }    #T_bfa77500_db35_11e9_b31d_9457a5edc0d1row1_col6 {\n",
       "            background-color:  lightblue;\n",
       "        }    #T_bfa77500_db35_11e9_b31d_9457a5edc0d1row2_col4 {\n",
       "            background-color:  lightblue;\n",
       "        }    #T_bfa77500_db35_11e9_b31d_9457a5edc0d1row2_col5 {\n",
       "            background-color:  lightblue;\n",
       "        }    #T_bfa77500_db35_11e9_b31d_9457a5edc0d1row2_col6 {\n",
       "            background-color:  lightblue;\n",
       "        }    #T_bfa77500_db35_11e9_b31d_9457a5edc0d1row3_col4 {\n",
       "            background-color:  lightblue;\n",
       "        }    #T_bfa77500_db35_11e9_b31d_9457a5edc0d1row3_col5 {\n",
       "            background-color:  lightblue;\n",
       "        }    #T_bfa77500_db35_11e9_b31d_9457a5edc0d1row3_col6 {\n",
       "            background-color:  lightblue;\n",
       "        }    #T_bfa77500_db35_11e9_b31d_9457a5edc0d1row4_col5 {\n",
       "            background-color:  lightblue;\n",
       "        }    #T_bfa77500_db35_11e9_b31d_9457a5edc0d1row4_col6 {\n",
       "            background-color:  lightblue;\n",
       "        }    #T_bfa77500_db35_11e9_b31d_9457a5edc0d1row5_col5 {\n",
       "            background-color:  lightblue;\n",
       "        }    #T_bfa77500_db35_11e9_b31d_9457a5edc0d1row5_col6 {\n",
       "            background-color:  lightblue;\n",
       "        }    #T_bfa77500_db35_11e9_b31d_9457a5edc0d1row6_col4 {\n",
       "            background-color:  lightblue;\n",
       "        }    #T_bfa77500_db35_11e9_b31d_9457a5edc0d1row6_col6 {\n",
       "            background-color:  lightblue;\n",
       "        }    #T_bfa77500_db35_11e9_b31d_9457a5edc0d1row7_col4 {\n",
       "            background-color:  lightblue;\n",
       "        }    #T_bfa77500_db35_11e9_b31d_9457a5edc0d1row7_col7 {\n",
       "            background-color:  lightblue;\n",
       "        }    #T_bfa77500_db35_11e9_b31d_9457a5edc0d1row8_col5 {\n",
       "            background-color:  lightblue;\n",
       "        }    #T_bfa77500_db35_11e9_b31d_9457a5edc0d1row9_col5 {\n",
       "            background-color:  lightblue;\n",
       "        }</style><table id=\"T_bfa77500_db35_11e9_b31d_9457a5edc0d1\" ><thead>    <tr>        <th class=\"blank level0\" ></th>        <th class=\"col_heading level0 col0\" >Audience score</th>        <th class=\"col_heading level0 col1\" >Critics score</th>        <th class=\"col_heading level0 col2\" >IMDB user rating</th>        <th class=\"col_heading level0 col3\" >Metascore</th>        <th class=\"col_heading level0 col4\" >Critically acclaimed</th>        <th class=\"col_heading level0 col5\" >Audience favorite</th>        <th class=\"col_heading level0 col6\" >Comedy</th>        <th class=\"col_heading level0 col7\" >Music</th>        <th class=\"col_heading level0 col8\" >Animation</th>        <th class=\"col_heading level0 col9\" >Total score</th>    </tr>    <tr>        <th class=\"index_name level0\" >Title</th>        <th class=\"blank\" ></th>        <th class=\"blank\" ></th>        <th class=\"blank\" ></th>        <th class=\"blank\" ></th>        <th class=\"blank\" ></th>        <th class=\"blank\" ></th>        <th class=\"blank\" ></th>        <th class=\"blank\" ></th>        <th class=\"blank\" ></th>        <th class=\"blank\" ></th>    </tr></thead><tbody>\n",
       "                <tr>\n",
       "                        <th id=\"T_bfa77500_db35_11e9_b31d_9457a5edc0d1level0_row0\" class=\"row_heading level0 row0\" >Toy Story 4</th>\n",
       "                        <td id=\"T_bfa77500_db35_11e9_b31d_9457a5edc0d1row0_col0\" class=\"data row0 col0\" >94</td>\n",
       "                        <td id=\"T_bfa77500_db35_11e9_b31d_9457a5edc0d1row0_col1\" class=\"data row0 col1\" >97</td>\n",
       "                        <td id=\"T_bfa77500_db35_11e9_b31d_9457a5edc0d1row0_col2\" class=\"data row0 col2\" >8.1</td>\n",
       "                        <td id=\"T_bfa77500_db35_11e9_b31d_9457a5edc0d1row0_col3\" class=\"data row0 col3\" >84</td>\n",
       "                        <td id=\"T_bfa77500_db35_11e9_b31d_9457a5edc0d1row0_col4\" class=\"data row0 col4\" >1</td>\n",
       "                        <td id=\"T_bfa77500_db35_11e9_b31d_9457a5edc0d1row0_col5\" class=\"data row0 col5\" >1</td>\n",
       "                        <td id=\"T_bfa77500_db35_11e9_b31d_9457a5edc0d1row0_col6\" class=\"data row0 col6\" >1</td>\n",
       "                        <td id=\"T_bfa77500_db35_11e9_b31d_9457a5edc0d1row0_col7\" class=\"data row0 col7\" >0</td>\n",
       "                        <td id=\"T_bfa77500_db35_11e9_b31d_9457a5edc0d1row0_col8\" class=\"data row0 col8\" >1</td>\n",
       "                        <td id=\"T_bfa77500_db35_11e9_b31d_9457a5edc0d1row0_col9\" class=\"data row0 col9\" >4</td>\n",
       "            </tr>\n",
       "            <tr>\n",
       "                        <th id=\"T_bfa77500_db35_11e9_b31d_9457a5edc0d1level0_row1\" class=\"row_heading level0 row1\" >Once Upon a Time in Hollywood</th>\n",
       "                        <td id=\"T_bfa77500_db35_11e9_b31d_9457a5edc0d1row1_col0\" class=\"data row1 col0\" >nan</td>\n",
       "                        <td id=\"T_bfa77500_db35_11e9_b31d_9457a5edc0d1row1_col1\" class=\"data row1 col1\" >nan</td>\n",
       "                        <td id=\"T_bfa77500_db35_11e9_b31d_9457a5edc0d1row1_col2\" class=\"data row1 col2\" >8</td>\n",
       "                        <td id=\"T_bfa77500_db35_11e9_b31d_9457a5edc0d1row1_col3\" class=\"data row1 col3\" >83</td>\n",
       "                        <td id=\"T_bfa77500_db35_11e9_b31d_9457a5edc0d1row1_col4\" class=\"data row1 col4\" >1</td>\n",
       "                        <td id=\"T_bfa77500_db35_11e9_b31d_9457a5edc0d1row1_col5\" class=\"data row1 col5\" >1</td>\n",
       "                        <td id=\"T_bfa77500_db35_11e9_b31d_9457a5edc0d1row1_col6\" class=\"data row1 col6\" >1</td>\n",
       "                        <td id=\"T_bfa77500_db35_11e9_b31d_9457a5edc0d1row1_col7\" class=\"data row1 col7\" >0</td>\n",
       "                        <td id=\"T_bfa77500_db35_11e9_b31d_9457a5edc0d1row1_col8\" class=\"data row1 col8\" >0</td>\n",
       "                        <td id=\"T_bfa77500_db35_11e9_b31d_9457a5edc0d1row1_col9\" class=\"data row1 col9\" >3</td>\n",
       "            </tr>\n",
       "            <tr>\n",
       "                        <th id=\"T_bfa77500_db35_11e9_b31d_9457a5edc0d1level0_row2\" class=\"row_heading level0 row2\" >Parasite</th>\n",
       "                        <td id=\"T_bfa77500_db35_11e9_b31d_9457a5edc0d1row2_col0\" class=\"data row2 col0\" >nan</td>\n",
       "                        <td id=\"T_bfa77500_db35_11e9_b31d_9457a5edc0d1row2_col1\" class=\"data row2 col1\" >nan</td>\n",
       "                        <td id=\"T_bfa77500_db35_11e9_b31d_9457a5edc0d1row2_col2\" class=\"data row2 col2\" >8.5</td>\n",
       "                        <td id=\"T_bfa77500_db35_11e9_b31d_9457a5edc0d1row2_col3\" class=\"data row2 col3\" >92</td>\n",
       "                        <td id=\"T_bfa77500_db35_11e9_b31d_9457a5edc0d1row2_col4\" class=\"data row2 col4\" >1</td>\n",
       "                        <td id=\"T_bfa77500_db35_11e9_b31d_9457a5edc0d1row2_col5\" class=\"data row2 col5\" >1</td>\n",
       "                        <td id=\"T_bfa77500_db35_11e9_b31d_9457a5edc0d1row2_col6\" class=\"data row2 col6\" >1</td>\n",
       "                        <td id=\"T_bfa77500_db35_11e9_b31d_9457a5edc0d1row2_col7\" class=\"data row2 col7\" >0</td>\n",
       "                        <td id=\"T_bfa77500_db35_11e9_b31d_9457a5edc0d1row2_col8\" class=\"data row2 col8\" >0</td>\n",
       "                        <td id=\"T_bfa77500_db35_11e9_b31d_9457a5edc0d1row2_col9\" class=\"data row2 col9\" >3</td>\n",
       "            </tr>\n",
       "            <tr>\n",
       "                        <th id=\"T_bfa77500_db35_11e9_b31d_9457a5edc0d1level0_row3\" class=\"row_heading level0 row3\" >The Farewell</th>\n",
       "                        <td id=\"T_bfa77500_db35_11e9_b31d_9457a5edc0d1row3_col0\" class=\"data row3 col0\" >87</td>\n",
       "                        <td id=\"T_bfa77500_db35_11e9_b31d_9457a5edc0d1row3_col1\" class=\"data row3 col1\" >99</td>\n",
       "                        <td id=\"T_bfa77500_db35_11e9_b31d_9457a5edc0d1row3_col2\" class=\"data row3 col2\" >8.1</td>\n",
       "                        <td id=\"T_bfa77500_db35_11e9_b31d_9457a5edc0d1row3_col3\" class=\"data row3 col3\" >90</td>\n",
       "                        <td id=\"T_bfa77500_db35_11e9_b31d_9457a5edc0d1row3_col4\" class=\"data row3 col4\" >1</td>\n",
       "                        <td id=\"T_bfa77500_db35_11e9_b31d_9457a5edc0d1row3_col5\" class=\"data row3 col5\" >1</td>\n",
       "                        <td id=\"T_bfa77500_db35_11e9_b31d_9457a5edc0d1row3_col6\" class=\"data row3 col6\" >1</td>\n",
       "                        <td id=\"T_bfa77500_db35_11e9_b31d_9457a5edc0d1row3_col7\" class=\"data row3 col7\" >0</td>\n",
       "                        <td id=\"T_bfa77500_db35_11e9_b31d_9457a5edc0d1row3_col8\" class=\"data row3 col8\" >0</td>\n",
       "                        <td id=\"T_bfa77500_db35_11e9_b31d_9457a5edc0d1row3_col9\" class=\"data row3 col9\" >3</td>\n",
       "            </tr>\n",
       "            <tr>\n",
       "                        <th id=\"T_bfa77500_db35_11e9_b31d_9457a5edc0d1level0_row4\" class=\"row_heading level0 row4\" >Chhichhore</th>\n",
       "                        <td id=\"T_bfa77500_db35_11e9_b31d_9457a5edc0d1row4_col0\" class=\"data row4 col0\" >92</td>\n",
       "                        <td id=\"T_bfa77500_db35_11e9_b31d_9457a5edc0d1row4_col1\" class=\"data row4 col1\" >55</td>\n",
       "                        <td id=\"T_bfa77500_db35_11e9_b31d_9457a5edc0d1row4_col2\" class=\"data row4 col2\" >8.6</td>\n",
       "                        <td id=\"T_bfa77500_db35_11e9_b31d_9457a5edc0d1row4_col3\" class=\"data row4 col3\" >nan</td>\n",
       "                        <td id=\"T_bfa77500_db35_11e9_b31d_9457a5edc0d1row4_col4\" class=\"data row4 col4\" >0</td>\n",
       "                        <td id=\"T_bfa77500_db35_11e9_b31d_9457a5edc0d1row4_col5\" class=\"data row4 col5\" >1</td>\n",
       "                        <td id=\"T_bfa77500_db35_11e9_b31d_9457a5edc0d1row4_col6\" class=\"data row4 col6\" >1</td>\n",
       "                        <td id=\"T_bfa77500_db35_11e9_b31d_9457a5edc0d1row4_col7\" class=\"data row4 col7\" >0</td>\n",
       "                        <td id=\"T_bfa77500_db35_11e9_b31d_9457a5edc0d1row4_col8\" class=\"data row4 col8\" >0</td>\n",
       "                        <td id=\"T_bfa77500_db35_11e9_b31d_9457a5edc0d1row4_col9\" class=\"data row4 col9\" >2</td>\n",
       "            </tr>\n",
       "            <tr>\n",
       "                        <th id=\"T_bfa77500_db35_11e9_b31d_9457a5edc0d1level0_row5\" class=\"row_heading level0 row5\" >Gang Leader</th>\n",
       "                        <td id=\"T_bfa77500_db35_11e9_b31d_9457a5edc0d1row5_col0\" class=\"data row5 col0\" >nan</td>\n",
       "                        <td id=\"T_bfa77500_db35_11e9_b31d_9457a5edc0d1row5_col1\" class=\"data row5 col1\" >nan</td>\n",
       "                        <td id=\"T_bfa77500_db35_11e9_b31d_9457a5edc0d1row5_col2\" class=\"data row5 col2\" >8.1</td>\n",
       "                        <td id=\"T_bfa77500_db35_11e9_b31d_9457a5edc0d1row5_col3\" class=\"data row5 col3\" >nan</td>\n",
       "                        <td id=\"T_bfa77500_db35_11e9_b31d_9457a5edc0d1row5_col4\" class=\"data row5 col4\" >0</td>\n",
       "                        <td id=\"T_bfa77500_db35_11e9_b31d_9457a5edc0d1row5_col5\" class=\"data row5 col5\" >1</td>\n",
       "                        <td id=\"T_bfa77500_db35_11e9_b31d_9457a5edc0d1row5_col6\" class=\"data row5 col6\" >1</td>\n",
       "                        <td id=\"T_bfa77500_db35_11e9_b31d_9457a5edc0d1row5_col7\" class=\"data row5 col7\" >0</td>\n",
       "                        <td id=\"T_bfa77500_db35_11e9_b31d_9457a5edc0d1row5_col8\" class=\"data row5 col8\" >0</td>\n",
       "                        <td id=\"T_bfa77500_db35_11e9_b31d_9457a5edc0d1row5_col9\" class=\"data row5 col9\" >2</td>\n",
       "            </tr>\n",
       "            <tr>\n",
       "                        <th id=\"T_bfa77500_db35_11e9_b31d_9457a5edc0d1level0_row6\" class=\"row_heading level0 row6\" >Booksmart</th>\n",
       "                        <td id=\"T_bfa77500_db35_11e9_b31d_9457a5edc0d1row6_col0\" class=\"data row6 col0\" >nan</td>\n",
       "                        <td id=\"T_bfa77500_db35_11e9_b31d_9457a5edc0d1row6_col1\" class=\"data row6 col1\" >nan</td>\n",
       "                        <td id=\"T_bfa77500_db35_11e9_b31d_9457a5edc0d1row6_col2\" class=\"data row6 col2\" >7.3</td>\n",
       "                        <td id=\"T_bfa77500_db35_11e9_b31d_9457a5edc0d1row6_col3\" class=\"data row6 col3\" >84</td>\n",
       "                        <td id=\"T_bfa77500_db35_11e9_b31d_9457a5edc0d1row6_col4\" class=\"data row6 col4\" >1</td>\n",
       "                        <td id=\"T_bfa77500_db35_11e9_b31d_9457a5edc0d1row6_col5\" class=\"data row6 col5\" >0</td>\n",
       "                        <td id=\"T_bfa77500_db35_11e9_b31d_9457a5edc0d1row6_col6\" class=\"data row6 col6\" >1</td>\n",
       "                        <td id=\"T_bfa77500_db35_11e9_b31d_9457a5edc0d1row6_col7\" class=\"data row6 col7\" >0</td>\n",
       "                        <td id=\"T_bfa77500_db35_11e9_b31d_9457a5edc0d1row6_col8\" class=\"data row6 col8\" >0</td>\n",
       "                        <td id=\"T_bfa77500_db35_11e9_b31d_9457a5edc0d1row6_col9\" class=\"data row6 col9\" >2</td>\n",
       "            </tr>\n",
       "            <tr>\n",
       "                        <th id=\"T_bfa77500_db35_11e9_b31d_9457a5edc0d1level0_row7\" class=\"row_heading level0 row7\" >Amazing Grace</th>\n",
       "                        <td id=\"T_bfa77500_db35_11e9_b31d_9457a5edc0d1row7_col0\" class=\"data row7 col0\" >nan</td>\n",
       "                        <td id=\"T_bfa77500_db35_11e9_b31d_9457a5edc0d1row7_col1\" class=\"data row7 col1\" >nan</td>\n",
       "                        <td id=\"T_bfa77500_db35_11e9_b31d_9457a5edc0d1row7_col2\" class=\"data row7 col2\" >7.6</td>\n",
       "                        <td id=\"T_bfa77500_db35_11e9_b31d_9457a5edc0d1row7_col3\" class=\"data row7 col3\" >94</td>\n",
       "                        <td id=\"T_bfa77500_db35_11e9_b31d_9457a5edc0d1row7_col4\" class=\"data row7 col4\" >1</td>\n",
       "                        <td id=\"T_bfa77500_db35_11e9_b31d_9457a5edc0d1row7_col5\" class=\"data row7 col5\" >0</td>\n",
       "                        <td id=\"T_bfa77500_db35_11e9_b31d_9457a5edc0d1row7_col6\" class=\"data row7 col6\" >0</td>\n",
       "                        <td id=\"T_bfa77500_db35_11e9_b31d_9457a5edc0d1row7_col7\" class=\"data row7 col7\" >1</td>\n",
       "                        <td id=\"T_bfa77500_db35_11e9_b31d_9457a5edc0d1row7_col8\" class=\"data row7 col8\" >0</td>\n",
       "                        <td id=\"T_bfa77500_db35_11e9_b31d_9457a5edc0d1row7_col9\" class=\"data row7 col9\" >2</td>\n",
       "            </tr>\n",
       "            <tr>\n",
       "                        <th id=\"T_bfa77500_db35_11e9_b31d_9457a5edc0d1level0_row8\" class=\"row_heading level0 row8\" >Section 375</th>\n",
       "                        <td id=\"T_bfa77500_db35_11e9_b31d_9457a5edc0d1row8_col0\" class=\"data row8 col0\" >nan</td>\n",
       "                        <td id=\"T_bfa77500_db35_11e9_b31d_9457a5edc0d1row8_col1\" class=\"data row8 col1\" >nan</td>\n",
       "                        <td id=\"T_bfa77500_db35_11e9_b31d_9457a5edc0d1row8_col2\" class=\"data row8 col2\" >8.7</td>\n",
       "                        <td id=\"T_bfa77500_db35_11e9_b31d_9457a5edc0d1row8_col3\" class=\"data row8 col3\" >nan</td>\n",
       "                        <td id=\"T_bfa77500_db35_11e9_b31d_9457a5edc0d1row8_col4\" class=\"data row8 col4\" >0</td>\n",
       "                        <td id=\"T_bfa77500_db35_11e9_b31d_9457a5edc0d1row8_col5\" class=\"data row8 col5\" >1</td>\n",
       "                        <td id=\"T_bfa77500_db35_11e9_b31d_9457a5edc0d1row8_col6\" class=\"data row8 col6\" >0</td>\n",
       "                        <td id=\"T_bfa77500_db35_11e9_b31d_9457a5edc0d1row8_col7\" class=\"data row8 col7\" >0</td>\n",
       "                        <td id=\"T_bfa77500_db35_11e9_b31d_9457a5edc0d1row8_col8\" class=\"data row8 col8\" >0</td>\n",
       "                        <td id=\"T_bfa77500_db35_11e9_b31d_9457a5edc0d1row8_col9\" class=\"data row8 col9\" >1</td>\n",
       "            </tr>\n",
       "            <tr>\n",
       "                        <th id=\"T_bfa77500_db35_11e9_b31d_9457a5edc0d1level0_row9\" class=\"row_heading level0 row9\" >Danger Close: The Battle of Long Tan</th>\n",
       "                        <td id=\"T_bfa77500_db35_11e9_b31d_9457a5edc0d1row9_col0\" class=\"data row9 col0\" >nan</td>\n",
       "                        <td id=\"T_bfa77500_db35_11e9_b31d_9457a5edc0d1row9_col1\" class=\"data row9 col1\" >nan</td>\n",
       "                        <td id=\"T_bfa77500_db35_11e9_b31d_9457a5edc0d1row9_col2\" class=\"data row9 col2\" >8.2</td>\n",
       "                        <td id=\"T_bfa77500_db35_11e9_b31d_9457a5edc0d1row9_col3\" class=\"data row9 col3\" >nan</td>\n",
       "                        <td id=\"T_bfa77500_db35_11e9_b31d_9457a5edc0d1row9_col4\" class=\"data row9 col4\" >0</td>\n",
       "                        <td id=\"T_bfa77500_db35_11e9_b31d_9457a5edc0d1row9_col5\" class=\"data row9 col5\" >1</td>\n",
       "                        <td id=\"T_bfa77500_db35_11e9_b31d_9457a5edc0d1row9_col6\" class=\"data row9 col6\" >0</td>\n",
       "                        <td id=\"T_bfa77500_db35_11e9_b31d_9457a5edc0d1row9_col7\" class=\"data row9 col7\" >0</td>\n",
       "                        <td id=\"T_bfa77500_db35_11e9_b31d_9457a5edc0d1row9_col8\" class=\"data row9 col8\" >0</td>\n",
       "                        <td id=\"T_bfa77500_db35_11e9_b31d_9457a5edc0d1row9_col9\" class=\"data row9 col9\" >1</td>\n",
       "            </tr>\n",
       "    </tbody></table>"
      ],
      "text/plain": [
       "<pandas.io.formats.style.Styler at 0x24dd18da860>"
      ]
     },
     "execution_count": 29,
     "metadata": {},
     "output_type": "execute_result"
    }
   ],
   "source": [
    "# Sorting the data frame and highlighting the boolean columns that are True (value = 1)\n",
    "topMovies[['Audience score',\n",
    "           'Critics score',\n",
    "           'IMDB user rating',\n",
    "           'Metascore',\n",
    "           'Critically acclaimed',\n",
    "           'Audience favorite',\n",
    "           'Comedy','Music',\n",
    "           'Animation',\n",
    "           'Total score']]\\\n",
    "            .sort_values(['Total score',\n",
    "                          'Audience favorite',\n",
    "                          'Critically acclaimed',\n",
    "                          'Comedy',\n",
    "                          'Music'],\n",
    "                         ascending=False)\\\n",
    "                        .style.highlight_max(subset=['Critically acclaimed',\n",
    "                                                      'Audience favorite',\n",
    "                                                      'Comedy',\n",
    "                                                      'Music',\n",
    "                                                      'Animation'], \n",
    "                                             color='lightblue')"
   ]
  },
  {
   "cell_type": "markdown",
   "metadata": {},
   "source": [
    "### Movies loved by critics and audiences"
   ]
  },
  {
   "cell_type": "code",
   "execution_count": 24,
   "metadata": {},
   "outputs": [
    {
     "data": {
      "text/html": [
       "<div>\n",
       "<style scoped>\n",
       "    .dataframe tbody tr th:only-of-type {\n",
       "        vertical-align: middle;\n",
       "    }\n",
       "\n",
       "    .dataframe tbody tr th {\n",
       "        vertical-align: top;\n",
       "    }\n",
       "\n",
       "    .dataframe thead th {\n",
       "        text-align: right;\n",
       "    }\n",
       "</style>\n",
       "<table border=\"1\" class=\"dataframe\">\n",
       "  <thead>\n",
       "    <tr style=\"text-align: right;\">\n",
       "      <th></th>\n",
       "      <th>Genres</th>\n",
       "      <th>Release date</th>\n",
       "    </tr>\n",
       "    <tr>\n",
       "      <th>Title</th>\n",
       "      <th></th>\n",
       "      <th></th>\n",
       "    </tr>\n",
       "  </thead>\n",
       "  <tbody>\n",
       "    <tr>\n",
       "      <th>The Farewell</th>\n",
       "      <td>Comedy, Drama</td>\n",
       "      <td>2019-09-05</td>\n",
       "    </tr>\n",
       "    <tr>\n",
       "      <th>Once Upon a Time in Hollywood</th>\n",
       "      <td>Comedy, Drama</td>\n",
       "      <td>2019-08-15</td>\n",
       "    </tr>\n",
       "    <tr>\n",
       "      <th>Toy Story 4</th>\n",
       "      <td>Animation, Adventure, Comedy</td>\n",
       "      <td>2019-06-20</td>\n",
       "    </tr>\n",
       "    <tr>\n",
       "      <th>Parasite</th>\n",
       "      <td>Comedy, Drama, Thriller</td>\n",
       "      <td>2019-05-30</td>\n",
       "    </tr>\n",
       "  </tbody>\n",
       "</table>\n",
       "</div>"
      ],
      "text/plain": [
       "                                                                 Genres  \\\n",
       "Title                                                                     \n",
       "The Farewell                                  Comedy, Drama               \n",
       "Once Upon a Time in Hollywood                 Comedy, Drama               \n",
       "Toy Story 4                    Animation, Adventure, Comedy               \n",
       "Parasite                            Comedy, Drama, Thriller               \n",
       "\n",
       "                              Release date  \n",
       "Title                                       \n",
       "The Farewell                    2019-09-05  \n",
       "Once Upon a Time in Hollywood   2019-08-15  \n",
       "Toy Story 4                     2019-06-20  \n",
       "Parasite                        2019-05-30  "
      ]
     },
     "execution_count": 24,
     "metadata": {},
     "output_type": "execute_result"
    }
   ],
   "source": [
    "topMovies[['Genres','Release date']]\\\n",
    "        [(topMovies['Critically acclaimed'] == 1) \n",
    "         & (topMovies['Audience favorite'] == 1)]\\\n",
    "        .sort_values(['Release date'],\n",
    "                     ascending=False)"
   ]
  },
  {
   "cell_type": "markdown",
   "metadata": {},
   "source": [
    "### Movies loved by critics but not audiences"
   ]
  },
  {
   "cell_type": "code",
   "execution_count": 25,
   "metadata": {},
   "outputs": [
    {
     "data": {
      "text/html": [
       "<div>\n",
       "<style scoped>\n",
       "    .dataframe tbody tr th:only-of-type {\n",
       "        vertical-align: middle;\n",
       "    }\n",
       "\n",
       "    .dataframe tbody tr th {\n",
       "        vertical-align: top;\n",
       "    }\n",
       "\n",
       "    .dataframe thead th {\n",
       "        text-align: right;\n",
       "    }\n",
       "</style>\n",
       "<table border=\"1\" class=\"dataframe\">\n",
       "  <thead>\n",
       "    <tr style=\"text-align: right;\">\n",
       "      <th></th>\n",
       "      <th>Genres</th>\n",
       "      <th>Release date</th>\n",
       "    </tr>\n",
       "    <tr>\n",
       "      <th>Title</th>\n",
       "      <th></th>\n",
       "      <th></th>\n",
       "    </tr>\n",
       "  </thead>\n",
       "  <tbody>\n",
       "    <tr>\n",
       "      <th>Amazing Grace</th>\n",
       "      <td>Documentary, Music</td>\n",
       "      <td>2019-08-29</td>\n",
       "    </tr>\n",
       "    <tr>\n",
       "      <th>Booksmart</th>\n",
       "      <td>Comedy</td>\n",
       "      <td>2019-06-27</td>\n",
       "    </tr>\n",
       "  </tbody>\n",
       "</table>\n",
       "</div>"
      ],
      "text/plain": [
       "                                       Genres Release date\n",
       "Title                                                     \n",
       "Amazing Grace  Documentary, Music               2019-08-29\n",
       "Booksmart                  Comedy               2019-06-27"
      ]
     },
     "execution_count": 25,
     "metadata": {},
     "output_type": "execute_result"
    }
   ],
   "source": [
    "topMovies[['Genres','Release date']]\\\n",
    "        [(topMovies['Critically acclaimed'] == 1) \n",
    "         & (topMovies['Audience favorite'] == 0)]\\\n",
    "        .sort_values(['Release date'],\n",
    "                     ascending=False)"
   ]
  },
  {
   "cell_type": "markdown",
   "metadata": {},
   "source": [
    "### Movies loved by audiences but not critics"
   ]
  },
  {
   "cell_type": "code",
   "execution_count": 26,
   "metadata": {},
   "outputs": [
    {
     "data": {
      "text/html": [
       "<div>\n",
       "<style scoped>\n",
       "    .dataframe tbody tr th:only-of-type {\n",
       "        vertical-align: middle;\n",
       "    }\n",
       "\n",
       "    .dataframe tbody tr th {\n",
       "        vertical-align: top;\n",
       "    }\n",
       "\n",
       "    .dataframe thead th {\n",
       "        text-align: right;\n",
       "    }\n",
       "</style>\n",
       "<table border=\"1\" class=\"dataframe\">\n",
       "  <thead>\n",
       "    <tr style=\"text-align: right;\">\n",
       "      <th></th>\n",
       "      <th>Genres</th>\n",
       "      <th>Release date</th>\n",
       "    </tr>\n",
       "    <tr>\n",
       "      <th>Title</th>\n",
       "      <th></th>\n",
       "      <th></th>\n",
       "    </tr>\n",
       "  </thead>\n",
       "  <tbody>\n",
       "    <tr>\n",
       "      <th>Section 375</th>\n",
       "      <td>Crime, Drama</td>\n",
       "      <td>2019-09-13</td>\n",
       "    </tr>\n",
       "    <tr>\n",
       "      <th>Gang Leader</th>\n",
       "      <td>Comedy</td>\n",
       "      <td>2019-09-13</td>\n",
       "    </tr>\n",
       "    <tr>\n",
       "      <th>Chhichhore</th>\n",
       "      <td>Comedy, Drama</td>\n",
       "      <td>2019-09-06</td>\n",
       "    </tr>\n",
       "    <tr>\n",
       "      <th>Danger Close: The Battle of Long Tan</th>\n",
       "      <td>Action, Drama, War</td>\n",
       "      <td>2019-08-08</td>\n",
       "    </tr>\n",
       "  </tbody>\n",
       "</table>\n",
       "</div>"
      ],
      "text/plain": [
       "                                                              Genres  \\\n",
       "Title                                                                  \n",
       "Section 375                                 Crime, Drama               \n",
       "Gang Leader                                       Comedy               \n",
       "Chhichhore                                 Comedy, Drama               \n",
       "Danger Close: The Battle of Long Tan  Action, Drama, War               \n",
       "\n",
       "                                     Release date  \n",
       "Title                                              \n",
       "Section 375                            2019-09-13  \n",
       "Gang Leader                            2019-09-13  \n",
       "Chhichhore                             2019-09-06  \n",
       "Danger Close: The Battle of Long Tan   2019-08-08  "
      ]
     },
     "execution_count": 26,
     "metadata": {},
     "output_type": "execute_result"
    }
   ],
   "source": [
    "topMovies[['Genres','Release date']]\\\n",
    "        [(topMovies['Critically acclaimed'] == 0) \n",
    "         & (topMovies['Audience favorite'] == 1)]\\\n",
    "        .sort_values(['Release date'],\n",
    "                     ascending=False)"
   ]
  }
 ],
 "metadata": {
  "kernelspec": {
   "display_name": "Python 3",
   "language": "python",
   "name": "python3"
  },
  "language_info": {
   "codemirror_mode": {
    "name": "ipython",
    "version": 3
   },
   "file_extension": ".py",
   "mimetype": "text/x-python",
   "name": "python",
   "nbconvert_exporter": "python",
   "pygments_lexer": "ipython3",
   "version": "3.5.2"
  }
 },
 "nbformat": 4,
 "nbformat_minor": 2
}
